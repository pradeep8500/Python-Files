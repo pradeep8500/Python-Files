{
 "cells": [
  {
   "cell_type": "code",
   "execution_count": 1,
   "metadata": {},
   "outputs": [
    {
     "ename": "NameError",
     "evalue": "name 'app' is not defined",
     "output_type": "error",
     "traceback": [
      "\u001b[0;31m---------------------------------------------------------------------------\u001b[0m",
      "\u001b[0;31mNameError\u001b[0m                                 Traceback (most recent call last)",
      "\u001b[0;32m<ipython-input-1-dbb1cef41484>\u001b[0m in \u001b[0;36m<module>\u001b[0;34m()\u001b[0m\n\u001b[0;32m----> 1\u001b[0;31m \u001b[0;34m@\u001b[0m\u001b[0mapp\u001b[0m\u001b[0;34m.\u001b[0m\u001b[0mroute\u001b[0m\u001b[0;34m(\u001b[0m\u001b[0;34m\"/content_based\"\u001b[0m\u001b[0;34m,\u001b[0m \u001b[0mmethods\u001b[0m \u001b[0;34m=\u001b[0m \u001b[0;34m[\u001b[0m\u001b[0;34m\"POST\"\u001b[0m\u001b[0;34m]\u001b[0m\u001b[0;34m)\u001b[0m\u001b[0;34m\u001b[0m\u001b[0m\n\u001b[0m\u001b[1;32m      2\u001b[0m \u001b[0;32mdef\u001b[0m \u001b[0mcontent_based\u001b[0m\u001b[0;34m(\u001b[0m\u001b[0mlimit\u001b[0m\u001b[0;34m,\u001b[0m\u001b[0mfilter_list\u001b[0m\u001b[0;34m)\u001b[0m\u001b[0;34m:\u001b[0m\u001b[0;34m\u001b[0m\u001b[0m\n\u001b[1;32m      3\u001b[0m     \u001b[0mds\u001b[0m \u001b[0;34m=\u001b[0m \u001b[0mpd\u001b[0m\u001b[0;34m.\u001b[0m\u001b[0mread_csv\u001b[0m\u001b[0;34m(\u001b[0m\u001b[0;34m\"AR_all.csv\"\u001b[0m\u001b[0;34m)\u001b[0m\u001b[0;34m\u001b[0m\u001b[0m\n\u001b[1;32m      4\u001b[0m     \u001b[0mitem_id\u001b[0m\u001b[0;34m=\u001b[0m\u001b[0mrequest\u001b[0m\u001b[0;34m.\u001b[0m\u001b[0mform\u001b[0m\u001b[0;34m.\u001b[0m\u001b[0mget\u001b[0m\u001b[0;34m(\u001b[0m\u001b[0;34m\"product_ids\"\u001b[0m\u001b[0;34m)\u001b[0m\u001b[0;34m\u001b[0m\u001b[0m\n\u001b[1;32m      5\u001b[0m     \u001b[0mtf\u001b[0m \u001b[0;34m=\u001b[0m \u001b[0mTfidfVectorizer\u001b[0m\u001b[0;34m(\u001b[0m\u001b[0manalyzer\u001b[0m\u001b[0;34m=\u001b[0m\u001b[0;34m'word'\u001b[0m\u001b[0;34m,\u001b[0m \u001b[0mngram_range\u001b[0m\u001b[0;34m=\u001b[0m\u001b[0;34m(\u001b[0m\u001b[0;36m1\u001b[0m\u001b[0;34m,\u001b[0m \u001b[0;36m1\u001b[0m\u001b[0;34m)\u001b[0m\u001b[0;34m,\u001b[0m \u001b[0mmin_df\u001b[0m\u001b[0;34m=\u001b[0m\u001b[0;36m0\u001b[0m\u001b[0;34m,\u001b[0m \u001b[0mstop_words\u001b[0m\u001b[0;34m=\u001b[0m\u001b[0;34m'english'\u001b[0m\u001b[0;34m)\u001b[0m\u001b[0;34m\u001b[0m\u001b[0m\n",
      "\u001b[0;31mNameError\u001b[0m: name 'app' is not defined"
     ]
    }
   ],
   "source": [
    "@app.route(\"/content_based\", methods = [\"POST\"])\n",
    "def content_based(limit,filter_list):\n",
    "    ds = pd.read_csv(\"AR_all.csv\")\n",
    "    item_id=request.form.get(\"product_ids\")\n",
    "    tf = TfidfVectorizer(analyzer='word', ngram_range=(1, 1), min_df=0, stop_words='english')\n",
    "    tfidf_matrix = tf.fit_transform(ds['name'])\n",
    "    cosine_similarities = linear_kernel(tfidf_matrix, tfidf_matrix)\n",
    "    results = {}\n",
    "    for idx, row in ds.iterrows():\n",
    "        similar_indices = cosine_similarities[idx].argsort()[:-100:-1]\n",
    "        similar_items = [(cosine_similarities[idx][i], ds['id'][i]) for i in similar_indices]\n",
    "        results[row['id']] = similar_items[1:]\n",
    "\n",
    "    recs = results[item_id][:int(limit)]\n",
    "    l=[]\n",
    "    for i in recs:\n",
    "         l.append(i[1])\n",
    "    jsondata=json.dumps(l)\n",
    "    return (jsondata)"
   ]
  },
  {
   "cell_type": "code",
   "execution_count": 5,
   "metadata": {},
   "outputs": [
    {
     "name": "stdout",
     "output_type": "stream",
     "text": [
      "Recommending 10 products similar to Coffee coco butter ylang ylang soap 125gm (Copy)...\n",
      "-------\n",
      "[(0.9248711852463111, 99), (0.6107609654359472, 123), (0.5223729495125253, 883), (0.2486388512798019, 132), (0.20622082115812565, 128), (0.1836043549265004, 108), (0.16280427654013346, 116), (0.1606308743132731, 135), (0.1586335625669339, 133), (0.15364793365864357, 110)]\n",
      "[99, 123, 883, 132, 128, 108, 116, 135, 133, 110]\n",
      "Recommended: Coffee coco butter ylang ylang soap 125gm (score:0.9248711852463111)\n",
      "Recommended: Pumpkin seed Ylang Ylang 125gm (score:0.6107609654359472)\n",
      "Recommended: Ancient Living Organic Ylang Ylang Essential Oil 10ml (score:0.5223729495125253)\n",
      "Recommended: Tulsi Rosemary Shea Butter Vit E Soap 125gm (score:0.2486388512798019)\n",
      "Recommended: Calendula  Rosemary Shea Butter 125gm (score:0.20622082115812565)\n",
      "Recommended: Aromatic Lemongrass Shea Butter Clove 125gm (score:0.1836043549265004)\n",
      "Recommended: Oatmeal Lemongrass Soap 125gm (score:0.16280427654013346)\n",
      "Recommended: Calamine Rosemary Soap 125gm (score:0.1606308743132731)\n",
      "Recommended: Charcoal Cedar Soap 125gm (score:0.1586335625669339)\n",
      "Recommended: Apple Cider  Bergamot Soap 125gm (score:0.15364793365864357)\n"
     ]
    }
   ],
   "source": [
    "\n"
   ]
  },
  {
   "cell_type": "code",
   "execution_count": null,
   "metadata": {},
   "outputs": [],
   "source": []
  }
 ],
 "metadata": {
  "kernelspec": {
   "display_name": "Python 3",
   "language": "python",
   "name": "python3"
  },
  "language_info": {
   "codemirror_mode": {
    "name": "ipython",
    "version": 3
   },
   "file_extension": ".py",
   "mimetype": "text/x-python",
   "name": "python",
   "nbconvert_exporter": "python",
   "pygments_lexer": "ipython3",
   "version": "3.6.5"
  }
 },
 "nbformat": 4,
 "nbformat_minor": 2
}
